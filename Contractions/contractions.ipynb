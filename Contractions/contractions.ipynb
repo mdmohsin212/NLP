{
 "cells": [
  {
   "cell_type": "markdown",
   "id": "95ff8bf4",
   "metadata": {},
   "source": [
    "- I'm - > I am\n",
    "- Isn't -> Is Not"
   ]
  },
  {
   "cell_type": "code",
   "execution_count": 1,
   "id": "c626a91f",
   "metadata": {},
   "outputs": [
    {
     "name": "stdout",
     "output_type": "stream",
     "text": [
      "I cannot belive it is happend\n"
     ]
    }
   ],
   "source": [
    "import contractions\n",
    "\n",
    "txt = \"I can't belive it's happend\"\n",
    "\n",
    "expended_txt = contractions.fix(txt)\n",
    "print(expended_txt)"
   ]
  },
  {
   "cell_type": "code",
   "execution_count": 6,
   "id": "fbd4696e",
   "metadata": {},
   "outputs": [],
   "source": [
    "import re\n",
    "\n",
    "def expend_contractions(txt):\n",
    "    contraction_pattern = {\n",
    "        r\"(?i)can't\": \"cannot\",\n",
    "        r\"(?i)won't\": \"will not\",\n",
    "        r\"(?i)don't\": \"do not\",\n",
    "        r\"(?i)i'm\": \"i am\",\n",
    "        r\"(?i)it's\": \"it is\",\n",
    "        r\"(?i)they'r\": \"they are\",\n",
    "        r\"(?i)we'v\": \"we have\",\n",
    "    }\n",
    "    for contraction, expansion in contraction_pattern.items():\n",
    "        txt = re.sub(contraction, expansion, txt)\n",
    "    return txt"
   ]
  },
  {
   "cell_type": "code",
   "execution_count": 7,
   "id": "7e976238",
   "metadata": {},
   "outputs": [
    {
     "name": "stdout",
     "output_type": "stream",
     "text": [
      "I cannot belive it is happend\n"
     ]
    }
   ],
   "source": [
    "txt = \"I can't belive it's happend\"\n",
    "\n",
    "expended_txt = expend_contractions(txt)\n",
    "print(expended_txt)"
   ]
  },
  {
   "cell_type": "code",
   "execution_count": 8,
   "id": "2001e0a4",
   "metadata": {},
   "outputs": [
    {
     "name": "stdout",
     "output_type": "stream",
     "text": [
      "i am Mohsin\n"
     ]
    }
   ],
   "source": [
    "print(expend_contractions(\"i'm Mohsin\"))"
   ]
  }
 ],
 "metadata": {
  "kernelspec": {
   "display_name": "Python 3",
   "language": "python",
   "name": "python3"
  },
  "language_info": {
   "codemirror_mode": {
    "name": "ipython",
    "version": 3
   },
   "file_extension": ".py",
   "mimetype": "text/x-python",
   "name": "python",
   "nbconvert_exporter": "python",
   "pygments_lexer": "ipython3",
   "version": "3.12.6"
  }
 },
 "nbformat": 4,
 "nbformat_minor": 5
}

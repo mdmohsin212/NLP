{
 "cells": [
  {
   "cell_type": "code",
   "execution_count": 1,
   "id": "4335496c",
   "metadata": {},
   "outputs": [],
   "source": [
    "import nltk\n",
    "from nltk.tokenize import word_tokenize, sent_tokenize"
   ]
  },
  {
   "cell_type": "code",
   "execution_count": 2,
   "id": "03389c9c",
   "metadata": {},
   "outputs": [],
   "source": [
    "txt = \"The children played happily in the sunny park while their parents watched carefully. A gentle breeze carried the scent of flowers through the air.\""
   ]
  },
  {
   "cell_type": "markdown",
   "id": "0920c628",
   "metadata": {},
   "source": [
    "#### Word Tokenization"
   ]
  },
  {
   "cell_type": "code",
   "execution_count": 4,
   "id": "e9dccfe6",
   "metadata": {},
   "outputs": [
    {
     "name": "stdout",
     "output_type": "stream",
     "text": [
      "['The', 'children', 'played', 'happily', 'in', 'the', 'sunny', 'park', 'while', 'their', 'parents', 'watched', 'carefully', '.', 'A', 'gentle', 'breeze', 'carried', 'the', 'scent', 'of', 'flowers', 'through', 'the', 'air', '.']\n"
     ]
    }
   ],
   "source": [
    "words = word_tokenize(txt)\n",
    "print(words)"
   ]
  },
  {
   "cell_type": "markdown",
   "id": "4dc41a4b",
   "metadata": {},
   "source": [
    "#### Sentence Tokenization"
   ]
  },
  {
   "cell_type": "code",
   "execution_count": 6,
   "id": "f721326c",
   "metadata": {},
   "outputs": [
    {
     "data": {
      "text/plain": [
       "['The children played happily in the sunny park while their parents watched carefully.',\n",
       " 'A gentle breeze carried the scent of flowers through the air.']"
      ]
     },
     "execution_count": 6,
     "metadata": {},
     "output_type": "execute_result"
    }
   ],
   "source": [
    "sentence = sent_tokenize(txt)\n",
    "sentence"
   ]
  }
 ],
 "metadata": {
  "kernelspec": {
   "display_name": "Python 3",
   "language": "python",
   "name": "python3"
  },
  "language_info": {
   "codemirror_mode": {
    "name": "ipython",
    "version": 3
   },
   "file_extension": ".py",
   "mimetype": "text/x-python",
   "name": "python",
   "nbconvert_exporter": "python",
   "pygments_lexer": "ipython3",
   "version": "3.12.6"
  }
 },
 "nbformat": 4,
 "nbformat_minor": 5
}

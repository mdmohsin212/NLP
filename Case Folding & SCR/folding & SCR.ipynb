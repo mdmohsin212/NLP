{
 "cells": [
  {
   "cell_type": "markdown",
   "id": "f17f9d7a",
   "metadata": {},
   "source": [
    "#### Case Folding"
   ]
  },
  {
   "cell_type": "code",
   "execution_count": 11,
   "id": "63f9af47",
   "metadata": {},
   "outputs": [],
   "source": [
    "txt = \"Hello, I am Mohsin\""
   ]
  },
  {
   "cell_type": "code",
   "execution_count": 12,
   "id": "461533fc",
   "metadata": {},
   "outputs": [
    {
     "name": "stdout",
     "output_type": "stream",
     "text": [
      "Hello, I am Mohsin\n"
     ]
    }
   ],
   "source": [
    "print(txt)"
   ]
  },
  {
   "cell_type": "code",
   "execution_count": 13,
   "id": "180d0e0d",
   "metadata": {},
   "outputs": [],
   "source": [
    "x = txt.casefold()"
   ]
  },
  {
   "cell_type": "code",
   "execution_count": 14,
   "id": "915aa56e",
   "metadata": {},
   "outputs": [
    {
     "data": {
      "text/plain": [
       "'hello, i am mohsin'"
      ]
     },
     "execution_count": 14,
     "metadata": {},
     "output_type": "execute_result"
    }
   ],
   "source": [
    "x"
   ]
  },
  {
   "cell_type": "code",
   "execution_count": 15,
   "id": "f19eac0b",
   "metadata": {},
   "outputs": [
    {
     "data": {
      "text/plain": [
       "'hello, i am mohsin'"
      ]
     },
     "execution_count": 15,
     "metadata": {},
     "output_type": "execute_result"
    }
   ],
   "source": [
    "y = txt.lower()\n",
    "y"
   ]
  },
  {
   "cell_type": "markdown",
   "id": "e0b67650",
   "metadata": {},
   "source": [
    "#### SCR"
   ]
  },
  {
   "cell_type": "code",
   "execution_count": 16,
   "id": "5b0cbb28",
   "metadata": {},
   "outputs": [
    {
     "name": "stdout",
     "output_type": "stream",
     "text": [
      "Hello how are you\n"
     ]
    }
   ],
   "source": [
    "import re\n",
    "\n",
    "input_str = \"Hello how are$ you!!\"\n",
    "\n",
    "clean_str = re.sub(r\"[^a-zA-Z0-9\\s]\", \"\", input_str)\n",
    "\n",
    "print(clean_str)"
   ]
  },
  {
   "cell_type": "code",
   "execution_count": 19,
   "id": "a2b0c42e",
   "metadata": {},
   "outputs": [
    {
     "name": "stdout",
     "output_type": "stream",
     "text": [
      "Hello how are you\n"
     ]
    }
   ],
   "source": [
    "# Using Spacy\n",
    "\n",
    "import spacy\n",
    "\n",
    "nlp = spacy.load(\"en_core_web_sm\")\n",
    "\n",
    "input_str = \"Hello how are$ you!!\"\n",
    "\n",
    "def clean_txt(txt):\n",
    "    cleaned_txt = ''.join(char for char in txt if char.isalpha() or char.isspace())\n",
    "    doc = nlp(cleaned_txt)\n",
    "    return ' '.join(token.text for token in doc)\n",
    "\n",
    "clean_str = clean_txt(input_str)\n",
    "print(clean_str)"
   ]
  },
  {
   "cell_type": "code",
   "execution_count": 20,
   "id": "27b7cbe2",
   "metadata": {},
   "outputs": [
    {
     "name": "stderr",
     "output_type": "stream",
     "text": [
      "[nltk_data] Downloading package punkt to\n",
      "[nltk_data]     C:\\Users\\User\\AppData\\Roaming\\nltk_data...\n",
      "[nltk_data]   Package punkt is already up-to-date!\n"
     ]
    },
    {
     "data": {
      "text/plain": [
       "['Hello', 'how', 'are', '$', 'you', '!', '!']"
      ]
     },
     "execution_count": 20,
     "metadata": {},
     "output_type": "execute_result"
    }
   ],
   "source": [
    "import nltk\n",
    "\n",
    "nltk.download('punkt')\n",
    "\n",
    "input_str = \"Hello how are$ you!!\"\n",
    "\n",
    "# Tokenize\n",
    "\n",
    "tokens = nltk.word_tokenize(input_str)\n",
    "tokens"
   ]
  },
  {
   "cell_type": "code",
   "execution_count": 22,
   "id": "5159f854",
   "metadata": {},
   "outputs": [
    {
     "name": "stdout",
     "output_type": "stream",
     "text": [
      "Hello how are you\n"
     ]
    }
   ],
   "source": [
    "clean_token = [token for token in tokens if token.isalnum()]\n",
    "\n",
    "clean_str = ' '.join(clean_token)\n",
    "print(clean_str)"
   ]
  }
 ],
 "metadata": {
  "kernelspec": {
   "display_name": "Python 3",
   "language": "python",
   "name": "python3"
  },
  "language_info": {
   "codemirror_mode": {
    "name": "ipython",
    "version": 3
   },
   "file_extension": ".py",
   "mimetype": "text/x-python",
   "name": "python",
   "nbconvert_exporter": "python",
   "pygments_lexer": "ipython3",
   "version": "3.12.6"
  }
 },
 "nbformat": 4,
 "nbformat_minor": 5
}
